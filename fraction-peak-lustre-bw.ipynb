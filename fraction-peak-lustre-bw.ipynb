{
 "cells": [
  {
   "cell_type": "markdown",
   "metadata": {},
   "source": [
    "# Fraction of peak I/O bandwidth utilized\n",
    "\n",
    "Regenerate the \"Users seldom achieve large fractions of peak I/O bandwidth\" slide from the _2014 NERSC Workload Analysis_ slides"
   ]
  },
  {
   "cell_type": "code",
   "execution_count": null,
   "metadata": {},
   "outputs": [],
   "source": [
    "%matplotlib inline"
   ]
  },
  {
   "cell_type": "code",
   "execution_count": null,
   "metadata": {},
   "outputs": [],
   "source": [
    "import datetime\n",
    "import numpy"
   ]
  },
  {
   "cell_type": "code",
   "execution_count": null,
   "metadata": {},
   "outputs": [],
   "source": [
    "import tokio"
   ]
  },
  {
   "cell_type": "code",
   "execution_count": null,
   "metadata": {},
   "outputs": [],
   "source": [
    "import matplotlib\n",
    "\n",
    "# default fontsize is tiny; make it bigger\n",
    "matplotlib.rcParams['font.size'] = 16"
   ]
  },
  {
   "cell_type": "code",
   "execution_count": null,
   "metadata": {},
   "outputs": [],
   "source": [
    "# Input parameters\n",
    "date_start = datetime.datetime(2017, 5, 1)\n",
    "date_end = datetime.datetime(2017, 5, 7)\n",
    "file_system = 'scratch3'"
   ]
  },
  {
   "cell_type": "code",
   "execution_count": null,
   "metadata": {},
   "outputs": [],
   "source": [
    "# Define some constants\n",
    "peak_bandwidth = {\n",
    "    \"cscratch\": 744,\n",
    "    \"scratch1\": 24,\n",
    "    \"scratch2\": 24,\n",
    "    \"scratch3\": 36,\n",
    "}"
   ]
  },
  {
   "cell_type": "code",
   "execution_count": null,
   "metadata": {},
   "outputs": [],
   "source": [
    "# Load data using pytokio - note that bigger time ranges will take a long time to load and a lot of memory!\n",
    "df_writes = tokio.tools.hdf5.get_dataframe_from_time_range(\n",
    "    fsname=file_system,\n",
    "    dataset_name='datatargets/writerates',\n",
    "    datetime_start=date_start,\n",
    "    datetime_end=date_end)\n",
    "\n",
    "df_reads = tokio.tools.hdf5.get_dataframe_from_time_range(\n",
    "    fsname=file_system,\n",
    "    dataset_name='datatargets/readrates',\n",
    "    datetime_start=date_start,\n",
    "    datetime_end=date_end)"
   ]
  },
  {
   "cell_type": "code",
   "execution_count": null,
   "metadata": {},
   "outputs": [],
   "source": [
    "# Convert bytes/sec to GiB/sec, then add up all GiB/sec across all OSTs for each timestep\n",
    "sum_writerates = (df_writes / 2**30).sum(axis=1)\n",
    "sum_readrates = (df_reads / 2**30).sum(axis=1)"
   ]
  },
  {
   "cell_type": "markdown",
   "metadata": {},
   "source": [
    "Use matplotlib's `hist` function to plot cumulative histograms of the read and write rates sampled."
   ]
  },
  {
   "cell_type": "code",
   "execution_count": null,
   "metadata": {},
   "outputs": [],
   "source": [
    "fig, ax = matplotlib.pyplot.subplots(figsize=(8,6))\n",
    "\n",
    "# Draw cumulative distribution functions\n",
    "n_reads, bins_reads, _ = ax.hist(sum_writerates, # values to bin up\n",
    "                                 range(0, peak_bandwidth[file_system]), # bin extents\n",
    "                                 histtype='step',\n",
    "                                 cumulative=True,\n",
    "                                 density=True,\n",
    "                                 label='writes',\n",
    "                                 color='red')\n",
    "n_writes, bins_writes, _ = ax.hist(sum_readrates, # values to bin up\n",
    "                                   range(0, peak_bandwidth[file_system]), # bin extents\n",
    "                                   histtype='step',\n",
    "                                   cumulative=True,\n",
    "                                   density=True,\n",
    "                                   label='reads',\n",
    "                                   color='blue')\n",
    "n_total, bins_total, _ = ax.hist(sum_writerates + sum_readrates, # values to bin up\n",
    "                                 range(0, peak_bandwidth[file_system]), # bin extents\n",
    "                                 histtype='step',\n",
    "                                 cumulative=True,\n",
    "                                 density=True,\n",
    "                                 label='total',\n",
    "                                 color='black')\n",
    "\n",
    "# Draw the 10% line\n",
    "line = ax.axvline(peak_bandwidth[file_system] / 10.0, label=\"10 % of peak\", color='black')\n",
    "line.set_linestyle('--')\n",
    "\n",
    "# Pretty up the plot\n",
    "ax.set_xlim(0, peak_bandwidth[file_system])\n",
    "ax.set_ylim(0, 1)\n",
    "\n",
    "ax.legend()\n",
    "\n",
    "ax.set_xlabel(\"Inferred LMT I/O rate (GB / s)\")\n",
    "ax.set_ylabel(\"Fraction of time samples at or below rate\")"
   ]
  },
  {
   "cell_type": "markdown",
   "metadata": {},
   "source": [
    "Print out some of the values we calculated above"
   ]
  },
  {
   "cell_type": "code",
   "execution_count": null,
   "metadata": {},
   "outputs": [],
   "source": [
    "bins_reads"
   ]
  },
  {
   "cell_type": "code",
   "execution_count": null,
   "metadata": {},
   "outputs": [],
   "source": [
    "n_reads"
   ]
  },
  {
   "cell_type": "code",
   "execution_count": null,
   "metadata": {},
   "outputs": [],
   "source": []
  }
 ],
 "metadata": {
  "kernelspec": {
   "display_name": "pytokio-prod",
   "language": "python",
   "name": "pytokio-prod"
  },
  "language_info": {
   "codemirror_mode": {
    "name": "ipython",
    "version": 3
   },
   "file_extension": ".py",
   "mimetype": "text/x-python",
   "name": "python",
   "nbconvert_exporter": "python",
   "pygments_lexer": "ipython3",
   "version": "3.6.8"
  }
 },
 "nbformat": 4,
 "nbformat_minor": 2
}
